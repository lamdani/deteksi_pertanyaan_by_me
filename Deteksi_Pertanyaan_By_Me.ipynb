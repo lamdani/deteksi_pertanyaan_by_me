{
  "nbformat": 4,
  "nbformat_minor": 0,
  "metadata": {
    "colab": {
      "provenance": []
    },
    "kernelspec": {
      "name": "python3",
      "display_name": "Python 3"
    },
    "language_info": {
      "name": "python"
    }
  },
  "cells": [
    {
      "cell_type": "markdown",
      "source": [
        "# DETEKSI **PERTANYAAN**"
      ],
      "metadata": {
        "id": "Ym2Bncw1sTjY"
      }
    },
    {
      "cell_type": "code",
      "source": [
        "import nltk\n",
        "nltk.download('punkt')"
      ],
      "metadata": {
        "colab": {
          "base_uri": "https://localhost:8080/"
        },
        "id": "PocLNs_6tkMv",
        "outputId": "ec525248-312a-4b92-89f8-6542eea7b117"
      },
      "execution_count": 3,
      "outputs": [
        {
          "output_type": "stream",
          "name": "stderr",
          "text": [
            "[nltk_data] Downloading package punkt to /root/nltk_data...\n",
            "[nltk_data]   Unzipping tokenizers/punkt.zip.\n"
          ]
        },
        {
          "output_type": "execute_result",
          "data": {
            "text/plain": [
              "True"
            ]
          },
          "metadata": {},
          "execution_count": 3
        }
      ]
    },
    {
      "cell_type": "markdown",
      "source": [
        "# COBA-**1**"
      ],
      "metadata": {
        "id": "eNM7KNPI1hdO"
      }
    },
    {
      "cell_type": "code",
      "execution_count": 56,
      "metadata": {
        "colab": {
          "base_uri": "https://localhost:8080/"
        },
        "id": "ME3AhZZTrxOv",
        "outputId": "3cc3a4a0-fd2a-42d6-d122-4e9536c0ec20"
      },
      "outputs": [
        {
          "output_type": "stream",
          "name": "stdout",
          "text": [
            "Ketikkan kalimat: gak bahaya ta\n",
            "['gak', 'bahaya', 'ta']\n",
            "Ini bukan pertanyaan !!!\n"
          ]
        }
      ],
      "source": [
        "from nltk.tokenize import word_tokenize\n",
        "\n",
        "\"\"\"\n",
        "kata_tanya = [\"what\", \"why\", \"when\", \"where\", \"who\",\n",
        "             \"name\", \"is\", \"how\", \"do\", \"does\",\n",
        "             \"which\", \"are\", \"could\", \"would\",\n",
        "             \"should\", \"has\", \"have\", \"whom\", \"whose\", \"don't\"]\n",
        "\"\"\"\n",
        "\n",
        "kata_tanya = [\"apa\", \"siapa\", \"dimana\", \"mengapa\",\n",
        "              \"bagaimana\", \"kapan\", \"berapa\", \"kenapa\",\n",
        "              \"apakah\", \"siapakah\", \"dimanakah\", \"kapankah\",\n",
        "              \"gak bahaya ta\"\n",
        "              ]\n",
        "\n",
        "pertanyaan = input(\"Ketikkan kalimat: \")\n",
        "pertanyaan = pertanyaan.lower()\n",
        "pertanyaan = word_tokenize(pertanyaan)\n",
        "\n",
        "print(pertanyaan)\n",
        "\n",
        "#pertanyaan[0] berarti akan mengecek di kata awal apakah ada kata tanya disitu\n",
        "\n",
        "if any(x in pertanyaan[0] for x in kata_tanya):\n",
        "    print(\"Ini pertanyaan\")\n",
        "else:\n",
        "    print(\"Ini bukan pertanyaan !!!\")"
      ]
    },
    {
      "cell_type": "markdown",
      "source": [
        "# COBA-**2**"
      ],
      "metadata": {
        "id": "h92W5IZq1nUb"
      }
    },
    {
      "cell_type": "code",
      "source": [
        "from nltk.tokenize import word_tokenize\n",
        "\n",
        "def hapus_spasi_kata_tanya(kata_tanya):\n",
        "    return [x.replace(\" \", \"\") for x in kata_tanya]\n",
        "\n",
        "kata_tanya = [\"apa\",\n",
        "              \"siapa\",\n",
        "              \"dimana\",\n",
        "              \"mengapa\",\n",
        "              \"bagaimana\",\n",
        "              \"kapan\",\n",
        "              \"berapa\",\n",
        "              \"kenapa\",\n",
        "              \"apakah\",\n",
        "              \"siapakah\",\n",
        "              \"dimanakah\",\n",
        "              \"kapankah\",\n",
        "              \"gak bahaya ta\"\n",
        "              ]\n",
        "\n",
        "kata_tanya = hapus_spasi_kata_tanya(kata_tanya)\n",
        "\n",
        "pertanyaan = input(\"Ketikkan kalimat: \")\n",
        "pertanyaan = pertanyaan.lower()\n",
        "pertanyaan = word_tokenize(pertanyaan)\n",
        "\n",
        "pertanyaan_tanpa_spasi = [x.replace(\" \", \"\") for x in pertanyaan]\n",
        "\n",
        "if any(x in pertanyaan_tanpa_spasi[0] for x in kata_tanya):\n",
        "    print(\"Ini adalah pertanyaan\")\n",
        "else:\n",
        "    print(\"Ini bukan pertanyaan !!!\")"
      ],
      "metadata": {
        "colab": {
          "base_uri": "https://localhost:8080/"
        },
        "id": "x03gQ9_Xym7g",
        "outputId": "76ddffdd-75b2-4377-a88e-d3bedc63ac53"
      },
      "execution_count": 53,
      "outputs": [
        {
          "output_type": "stream",
          "name": "stdout",
          "text": [
            "Ketikkan kalimat: apakah\n",
            "Ini adalah pertanyaan\n"
          ]
        }
      ]
    },
    {
      "cell_type": "markdown",
      "source": [
        "# COBA-**3**"
      ],
      "metadata": {
        "id": "UV-OikDa1pu-"
      }
    },
    {
      "cell_type": "code",
      "source": [
        "def hapus_spasi_kata_tanya(kata_tanya):\n",
        "    return [x.replace(\" \", \"\") for x in kata_tanya]\n",
        "\n",
        "kata_tanya = [\"gak bahaya ta\", \"haruskah gitu\"]\n",
        "kata_tanya = hapus_spasi_kata_tanya(kata_tanya)\n",
        "print(kata_tanya[0])\n"
      ],
      "metadata": {
        "colab": {
          "base_uri": "https://localhost:8080/"
        },
        "id": "K541bRXq0tdH",
        "outputId": "cb14c39e-dd5b-453d-981b-daa79046388b"
      },
      "execution_count": 50,
      "outputs": [
        {
          "output_type": "stream",
          "name": "stdout",
          "text": [
            "gakbahayata\n"
          ]
        }
      ]
    },
    {
      "cell_type": "markdown",
      "source": [
        "# COBA-**4**"
      ],
      "metadata": {
        "id": "pMgacfWE1rs4"
      }
    },
    {
      "cell_type": "code",
      "source": [
        "def hapus_spasi_kata_tanya(kata_tanya):\n",
        "    return [x.replace(\" \", \"\") for x in kata_tanya]\n",
        "\n",
        "def cari_indeks_kata_tanya(input_user, kata_tanya):\n",
        "    input_user_tanpa_spasi = input_user.replace(\" \", \"\")\n",
        "    kata_tanya_tanpa_spasi = hapus_spasi_kata_tanya(kata_tanya)\n",
        "\n",
        "    try:\n",
        "        indeks = kata_tanya_tanpa_spasi.index(input_user_tanpa_spasi)\n",
        "        return indeks\n",
        "    except ValueError:\n",
        "        return None\n",
        "\n",
        "kata_tanya = [\"gak bahaya ta\", \"haruskah gitu\"]\n",
        "\n",
        "input_user = input(\"Ketikkan input: \")\n",
        "\n",
        "indeks = cari_indeks_kata_tanya(input_user, kata_tanya)\n",
        "if indeks is not None:\n",
        "    print(f\"Input berada di indeks ke-{indeks} dalam list kata_tanya.\")\n",
        "else:\n",
        "    print(\"Input tidak ditemukan dalam list kata_tanya.\")\n"
      ],
      "metadata": {
        "colab": {
          "base_uri": "https://localhost:8080/"
        },
        "id": "h1nVwv6a1aJI",
        "outputId": "63c4e726-4572-493d-cce1-802bc91cac12"
      },
      "execution_count": 43,
      "outputs": [
        {
          "output_type": "stream",
          "name": "stdout",
          "text": [
            "Ketikkan input: gak bahaya ta\n",
            "Input berada di indeks ke-0 dalam list kata_tanya.\n"
          ]
        }
      ]
    },
    {
      "cell_type": "markdown",
      "source": [
        "# COBA-**5**"
      ],
      "metadata": {
        "id": "Rz7-EMce12fQ"
      }
    },
    {
      "cell_type": "code",
      "source": [
        "def hapus_spasi_kata_tanya(kata_tanya):\n",
        "    return [x.replace(\" \", \"\") for x in kata_tanya]\n",
        "\n",
        "def cari_indeks_kata_tanya(input_user, kata_tanya):\n",
        "    input_user_tanpa_spasi = input_user.replace(\" \", \"\")\n",
        "    kata_tanya_tanpa_spasi = hapus_spasi_kata_tanya(kata_tanya)\n",
        "\n",
        "    try:\n",
        "        indeks = kata_tanya_tanpa_spasi.index(input_user_tanpa_spasi)\n",
        "        return indeks\n",
        "    except ValueError:\n",
        "        return None\n",
        "\n",
        "def tampilkan_indeks_kata_tanya(input_user, kata_tanya):\n",
        "    indeks = cari_indeks_kata_tanya(input_user, kata_tanya)\n",
        "    if indeks is not None:\n",
        "        print(f\"Kata '{input_user}' berada di indeks ke-{indeks} dalam list kata_tanya.\")\n",
        "    else:\n",
        "        print(f\"Kata '{input_user}' tidak ditemukan dalam list kata_tanya.\")\n",
        "\n",
        "kata_tanya = [\"apa\",\n",
        "              \"siapa\",\n",
        "              \"dimana\",\n",
        "              \"mengapa\",\n",
        "              \"bagaimana\",\n",
        "              \"kapan\",\n",
        "              \"berapa\",\n",
        "              \"kenapa\",\n",
        "              \"apakah\",\n",
        "              \"siapakah\",\n",
        "              \"dimanakah\",\n",
        "              \"kapankah\",\n",
        "              \"gak bahaya ta\",\n",
        "              \"haruskah gitu\",\n",
        "              \"mananya\",\n",
        "              \"dimananya\"\n",
        "              ]\n",
        "\n",
        "kata_tanya = hapus_spasi_kata_tanya(kata_tanya)\n",
        "\n",
        "print(kata_tanya)\n",
        "print(\"\\n\")\n",
        "\n",
        "input_user = input(\"Ketikkan kata tanya nya saja: \")\n",
        "\n",
        "tampilkan_indeks_kata_tanya(input_user, kata_tanya)\n",
        "\n",
        "print(\"\\n\")\n",
        "\n",
        "pertanyaan = input(\"Ketikkan kalimat: \")\n",
        "pertanyaan = pertanyaan.lower()\n",
        "pertanyaan = word_tokenize(pertanyaan)\n",
        "\n",
        "print(pertanyaan)\n",
        "print(\"\\n\")\n",
        "print(pertanyaan[0])\n",
        "\n",
        "if any(x in pertanyaan[0] for x in kata_tanya):\n",
        "    print(\"\\nIni adalah pertanyaan\")\n",
        "else:\n",
        "    print(\"\\nIni bukan pertanyaan !!!\")\n",
        "\n",
        "\n"
      ],
      "metadata": {
        "colab": {
          "base_uri": "https://localhost:8080/"
        },
        "id": "dhjTcsPR14Q8",
        "outputId": "bc35def3-1246-487e-a439-b442a4ec2ae1"
      },
      "execution_count": 67,
      "outputs": [
        {
          "output_type": "stream",
          "name": "stdout",
          "text": [
            "['apa', 'siapa', 'dimana', 'mengapa', 'bagaimana', 'kapan', 'berapa', 'kenapa', 'apakah', 'siapakah', 'dimanakah', 'kapankah', 'gakbahayata', 'haruskahgitu', 'mananya', 'dimananya']\n",
            "\n",
            "\n",
            "Ketikkan kata tanya nya saja: gak bahaya ta\n",
            "Kata 'gak bahaya ta' berada di indeks ke-12 dalam list kata_tanya.\n",
            "\n",
            "\n",
            "Ketikkan kalimat: gak bahaya ta kalau jahat\n",
            "['gak', 'bahaya', 'ta', 'kalau', 'jahat']\n",
            "\n",
            "\n",
            "gak\n",
            "\n",
            "Ini bukan pertanyaan !!!\n"
          ]
        }
      ]
    },
    {
      "cell_type": "markdown",
      "source": [
        "# COBA-**7**\n",
        "SUDAH FIX BENAR"
      ],
      "metadata": {
        "id": "9xkOjhpB8VfC"
      }
    },
    {
      "cell_type": "code",
      "source": [
        "from nltk.tokenize import word_tokenize\n",
        "\n",
        "### BY LAMDANI\n",
        "\n",
        "def cek_pertanyaan(kalimat):\n",
        "    return kalimat.endswith(\"?\")\n",
        "\n",
        "def hapus_spasi_kata_tanya(kata_tanya):\n",
        "    return [x.replace(\" \", \"\") for x in kata_tanya]\n",
        "\n",
        "def cari_dan_gabungkan_kata(pertanyaan_1, kata_tanya):\n",
        "    gabungkan_kata = \"\".join(pertanyaan_1)\n",
        "    return gabungkan_kata\n",
        "\n",
        "def gabungkan_string(question_1, pertanyaan_2):\n",
        "    gabungan_kalimat = question_1 + \" \" + pertanyaan_2\n",
        "    return gabungan_kalimat\n",
        "\n",
        "def gabungkan_aja(gabungkan_kata, pertanyaan_2):\n",
        "    gabungan_kalimatnya_dong = gabungkan_kata + \" \" + pertanyaan_2\n",
        "    return gabungan_kalimatnya_dong\n",
        "\n",
        "kata_tanya = [\"apa\",\n",
        "              \"apalah\",\n",
        "              \"apa kah\",\n",
        "\n",
        "              \"siapa\",\n",
        "              \"siapa kah\",\n",
        "\n",
        "              \"dimana\",\n",
        "              \"dimana kah\",\n",
        "              \"dimananya\",\n",
        "\n",
        "              \"mengapa\",\n",
        "              \"mengapa kah\",\n",
        "              \"kenapa\",\n",
        "              \"kenapa kah\"\n",
        "\n",
        "              \"bagaimana\",\n",
        "              \"bagaimana kah\",\n",
        "              \"gimana\",\n",
        "              \"gimana kah\",\n",
        "\n",
        "              \"kapan\",\n",
        "              \"kapan kah\",\n",
        "\n",
        "              \"berapa\",\n",
        "              \"berapa kah\",\n",
        "\n",
        "              \"gak bahaya ta\",\n",
        "\n",
        "              \"haruskah gitu\",\n",
        "\n",
        "              \"mananya\",\n",
        "\n",
        "              \"iya kah\",\n",
        "\n",
        "              \"begitu kah\",\n",
        "              \"gitu\",\n",
        "              \"begitu\",\n",
        "\n",
        "              \"begini kah\",\n",
        "              \"gini\",\n",
        "              \"begini\"\n",
        "\n",
        "              ]\n",
        "\n",
        "#SUDAH DIHAPUS SETIAP KATA YANG DIDALAM LIST YANG MENGANDUNG SPASI\n",
        "#CONTOH :\n",
        "#begitu kah\n",
        "# menjadi => begitukah\n",
        "kata_tanya = hapus_spasi_kata_tanya(kata_tanya)\n",
        "print(kata_tanya)\n",
        "print(\"\\n\")\n",
        "\n",
        "pertanyaan_1 = input(\"Ketikkan kalimat-1: \")\n",
        "question_1 = pertanyaan_1\n",
        "question_1 = question_1.lower()\n",
        "\n",
        "pertanyaan_1 = pertanyaan_1.lower()\n",
        "pertanyaan_1 = word_tokenize(pertanyaan_1)\n",
        "\n",
        "# print(\"\\n\")\n",
        "print(question_1)\n",
        "print(pertanyaan_1)\n",
        "\n",
        "pertanyaan_2 = input(\"\\nKetikkan kalimat-2: \")\n",
        "pertanyaan_2 = pertanyaan_2.lower()\n",
        "print(pertanyaan_2)\n",
        "\n",
        "gabungkan_kata = cari_dan_gabungkan_kata(pertanyaan_1, kata_tanya)\n",
        "print(\"\\nHasil penggabungan kalimat-1 menjadi 1 kata: \", gabungkan_kata)\n",
        "\n",
        "hasil_gabungan    = gabungkan_string(question_1, pertanyaan_2)\n",
        "hasil_gabungannya = gabungkan_aja(gabungkan_kata, pertanyaan_2)\n",
        "\n",
        "print(\"\\nGabungan kalimat-1 dan kalimat-2 (Versi 1) = \",hasil_gabungan)\n",
        "print(\"Gabungan kalimat-1 dan kalimat-2 (Versi 2) = \",hasil_gabungannya)\n",
        "\n",
        "if any(x in gabungkan_kata for x in kata_tanya):\n",
        "    if cek_pertanyaan(hasil_gabungan):\n",
        "      print(\"\\nKESIMPULAN :\\nKalimat tersebut adalah pertanyaan.\")\n",
        "    else:\n",
        "      print(\"\\nKESIMPULAN :\\nKalimat tersebut bukan pertanyaan.\")\n",
        "else:\n",
        "    print(\"\\nKESIMPULAN :\\nIni bukan pertanyaan !!!\")\n"
      ],
      "metadata": {
        "colab": {
          "base_uri": "https://localhost:8080/"
        },
        "id": "H2_JNoxg8UN8",
        "outputId": "5e472bf4-4a81-401e-ab67-f7efd9b8f7ce"
      },
      "execution_count": 116,
      "outputs": [
        {
          "output_type": "stream",
          "name": "stdout",
          "text": [
            "['apa', 'apalah', 'apakah', 'siapa', 'siapakah', 'dimana', 'dimanakah', 'dimananya', 'mengapa', 'mengapakah', 'kenapa', 'kenapakahbagaimana', 'bagaimanakah', 'gimana', 'gimanakah', 'kapan', 'kapankah', 'berapa', 'berapakah', 'gakbahayata', 'haruskahgitu', 'mananya', 'iyakah', 'begitukah', 'gitu', 'begitu', 'beginikah', 'gini', 'begini']\n",
            "\n",
            "\n",
            "Ketikkan kalimat-1: BEGITU KAH\n",
            "begitu kah\n",
            "['begitu', 'kah']\n",
            "\n",
            "Ketikkan kalimat-2: CARA BELAJAR ?\n",
            "cara belajar ?\n",
            "\n",
            "Hasil penggabungan kalimat-1 menjadi 1 kata:  begitukah\n",
            "\n",
            "Gabungan kalimat-1 dan kalimat-2 (Versi 1) =  begitu kah cara belajar ?\n",
            "Gabungan kalimat-1 dan kalimat-2 (Versi 2) =  begitukah cara belajar ?\n",
            "\n",
            "KESIMPULAN :\n",
            "Kalimat tersebut adalah pertanyaan.\n"
          ]
        }
      ]
    },
    {
      "cell_type": "code",
      "source": [],
      "metadata": {
        "id": "Sqg74j8h-PFZ"
      },
      "execution_count": null,
      "outputs": []
    }
  ]
}